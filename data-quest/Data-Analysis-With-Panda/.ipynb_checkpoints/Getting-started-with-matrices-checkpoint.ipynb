{
 "cells": [
  {
   "cell_type": "code",
   "execution_count": 1,
   "metadata": {
    "collapsed": true
   },
   "outputs": [],
   "source": [
    "import numpy"
   ]
  },
  {
   "cell_type": "markdown",
   "metadata": {},
   "source": [
    "**numpy.genfromtxt** reads the data into a NumPy array. Every element in an array has to be the same data type.\n",
    "\n",
    "Using the dtype keyword argument with the str type tells numpy that everything we are reading in is a string, The \"U\" in \"U75\" refers to unicode, and the 75 is the maximum length of a string element in the data."
   ]
  },
  {
   "cell_type": "code",
   "execution_count": 17,
   "metadata": {
    "collapsed": false
   },
   "outputs": [
    {
     "name": "stdout",
     "output_type": "stream",
     "text": [
      "World Alcohol dataset has 20 rows and 5 columns\n",
      "[['1986' 'Western Pacific' 'Viet Nam' 'Wine' '0']\n",
      " ['1986' 'Americas' 'Uruguay' 'Other' '0.5']\n",
      " ['1985' 'Africa' \"Cte d'Ivoire\" 'Wine' '1.62']\n",
      " ['1986' 'Americas' 'Colombia' 'Beer' '4.27']\n",
      " ['1987' 'Americas' 'Saint Kitts and Nevis' 'Beer' '1.98']\n",
      " ['1987' 'Americas' 'Guatemala' 'Other' '0']\n",
      " ['1987' 'Africa' 'Mauritius' 'Wine' '0.13']\n",
      " ['1985' 'Africa' 'Angola' 'Spirits' '0.39']\n",
      " ['1986' 'Americas' 'Antigua and Brbuda' 'Spirits' '1.55']\n",
      " ['1984' 'Africa' 'Nigeria' 'Other' '6.1']\n",
      " ['1987' 'Africa' 'Botswana' 'Wine' '0.2']\n",
      " ['1989' 'Americas' 'Guatemala' 'Beer' '0.62']\n",
      " ['1985' 'Western Pacific' 'Lao' 'Beer' '0']\n",
      " ['1984' 'Eastern Mediterranean' 'Afghanistan' 'Other' '0']\n",
      " ['1985' 'Western Pacific' 'Viet Nam' 'Spirits' '0.05']\n",
      " ['1987' 'Africa' 'Guinea-Bissau' 'Wine' '0.07']\n",
      " ['1984' 'Americas' 'Costa Rica' 'Wine' '0.06']\n",
      " ['1989' 'Africa' 'Seychelles' 'Beer' '2.23']\n",
      " ['1984' 'Europe' 'Norway' 'Spirits' '1.62']\n",
      " ['1984' 'Africa' 'Kenya' 'Beer' '1.08']]\n"
     ]
    }
   ],
   "source": [
    "world_alcohol = numpy.genfromtxt(\"world_alcohol.csv\", delimiter=\",\", dtype=\"U75\", skip_header=1)\n",
    "print('World Alcohol dataset has {} rows and {} columns'.format(world_alcohol.shape[0], world_alcohol.shape[1]))\n",
    "print(world_alcohol)"
   ]
  },
  {
   "cell_type": "markdown",
   "metadata": {},
   "source": [
    "You can see that our data is unordered and with repetitions. To see easily all the years that we're dealing we should do:"
   ]
  },
  {
   "cell_type": "code",
   "execution_count": 12,
   "metadata": {
    "collapsed": false
   },
   "outputs": [
    {
     "name": "stdout",
     "output_type": "stream",
     "text": [
      "['1984', '1985', '1986', '1987', '1989']\n"
     ]
    }
   ],
   "source": [
    "years = sorted(set(world_alcohol[:,0]))\n",
    "print(years)"
   ]
  },
  {
   "cell_type": "code",
   "execution_count": null,
   "metadata": {
    "collapsed": true
   },
   "outputs": [],
   "source": []
  }
 ],
 "metadata": {
  "kernelspec": {
   "display_name": "Python 3",
   "language": "python",
   "name": "python3"
  },
  "language_info": {
   "codemirror_mode": {
    "name": "ipython",
    "version": 3
   },
   "file_extension": ".py",
   "mimetype": "text/x-python",
   "name": "python",
   "nbconvert_exporter": "python",
   "pygments_lexer": "ipython3",
   "version": "3.4.3"
  }
 },
 "nbformat": 4,
 "nbformat_minor": 0
}
