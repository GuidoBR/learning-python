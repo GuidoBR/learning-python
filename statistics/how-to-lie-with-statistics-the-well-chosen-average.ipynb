{
 "cells": [
  {
   "cell_type": "code",
   "execution_count": 7,
   "metadata": {},
   "outputs": [],
   "source": [
    "import numpy as np\n",
    "import matplotlib.pyplot as plt"
   ]
  },
  {
   "cell_type": "code",
   "execution_count": 2,
   "metadata": {},
   "outputs": [],
   "source": [
    "income = np.random.randint(low=15000, high=250000, size=200)"
   ]
  },
  {
   "cell_type": "code",
   "execution_count": 3,
   "metadata": {},
   "outputs": [
    {
     "data": {
      "text/plain": [
       "array([ 84003,  80660,  54285, 213757,  72422,  79080,  36629,  40276,\n",
       "        19214,  24163, 206248, 237796, 217128, 179361,  28546, 175623,\n",
       "       135469,  83951, 102376,  20561,  56102, 210905, 216000, 105783,\n",
       "       187993,  84029, 204428, 246044,  42594,  88528, 190670, 182436,\n",
       "       126413, 133160, 120014,  72148, 169198, 196289,  68676,  63797,\n",
       "       102740,  80280, 116696, 191004,  66135, 201696, 161166,  40230,\n",
       "       226359, 113747,  94796, 219427, 202134, 137596,  67903, 238279,\n",
       "        91204, 248609, 161370, 144595, 220671,  59663, 146329,  26753,\n",
       "       103620, 148494, 197523, 158495, 246645, 111214,  20764, 185515,\n",
       "        62835,  76395, 178158, 147728, 205294, 174759,  72985, 201289,\n",
       "       205408,  53557,  72954, 186609, 219900, 128088, 148723, 152479,\n",
       "        41668, 217562, 196886, 184582, 167441, 202238, 184070,  66649,\n",
       "       235165,  53325,  35736, 237588,  70588, 191268, 153786, 202373,\n",
       "       201735, 215375, 222950,  99997, 192480, 201745, 117508, 219980,\n",
       "        97907,  15226,  35584, 199788, 142762,  74933,  65733, 189301,\n",
       "       192064, 121071, 166440,  55170, 218179, 158175, 132069, 191218,\n",
       "        50129, 186513,  92143,  48539, 212284, 147561, 239947, 118572,\n",
       "       192764, 181963, 133387,  54582, 215939, 159514,  52351, 237212,\n",
       "       172161, 189204,  16225, 187379, 188343, 224496,  48672, 204921,\n",
       "       215138, 137001, 215941, 115211,  29081, 101979,  44377, 186507,\n",
       "        42504, 206286,  72729, 169420, 161185, 127463, 153991, 230284,\n",
       "       222895, 166521, 148302, 111081,  46209, 120270, 102609, 148442,\n",
       "       226384, 177676, 191008, 163886, 213953, 108840, 139928,  81651,\n",
       "       105784, 204117, 177061, 242519, 208762,  55255, 150710, 128983,\n",
       "       158529, 214016, 200449, 102690, 193402, 130027, 184246, 231331])"
      ]
     },
     "execution_count": 3,
     "metadata": {},
     "output_type": "execute_result"
    }
   ],
   "source": [
    "income"
   ]
  },
  {
   "cell_type": "code",
   "execution_count": 13,
   "metadata": {},
   "outputs": [
    {
     "name": "stdout",
     "output_type": "stream",
     "text": [
      "Mean: $ 142326.585\n",
      "Median: $ 151594.5\n",
      "Average: $ 142326.585\n",
      "Standard Deviation: $ 64988.8282562686\n",
      "Variance: $ 4223547798.122776\n"
     ]
    }
   ],
   "source": [
    "print(f\"Mean: $ {np.mean(income)}\")\n",
    "print(f\"Median: $ {np.median(income)}\")\n",
    "print(f\"Average: $ {np.average(income)}\")\n",
    "print(f\"Standard Deviation: $ {np.std(income)}\")\n",
    "print(f\"Variance: $ {np.var(income)}\")"
   ]
  },
  {
   "cell_type": "code",
   "execution_count": 5,
   "metadata": {},
   "outputs": [
    {
     "data": {
      "text/plain": [
       "142326.585"
      ]
     },
     "execution_count": 5,
     "metadata": {},
     "output_type": "execute_result"
    }
   ],
   "source": []
  },
  {
   "cell_type": "code",
   "execution_count": 6,
   "metadata": {},
   "outputs": [
    {
     "data": {
      "text/plain": [
       "142326.585"
      ]
     },
     "execution_count": 6,
     "metadata": {},
     "output_type": "execute_result"
    }
   ],
   "source": []
  },
  {
   "cell_type": "code",
   "execution_count": 8,
   "metadata": {},
   "outputs": [
    {
     "ename": "TypeError",
     "evalue": "scatter() missing 1 required positional argument: 'y'",
     "output_type": "error",
     "traceback": [
      "\u001b[0;31m---------------------------------------------------------------------------\u001b[0m",
      "\u001b[0;31mTypeError\u001b[0m                                 Traceback (most recent call last)",
      "\u001b[0;32m<ipython-input-8-dd311a3556f1>\u001b[0m in \u001b[0;36m<module>\u001b[0;34m\u001b[0m\n\u001b[0;32m----> 1\u001b[0;31m \u001b[0mplt\u001b[0m\u001b[0;34m.\u001b[0m\u001b[0mscatter\u001b[0m\u001b[0;34m(\u001b[0m\u001b[0mincome\u001b[0m\u001b[0;34m)\u001b[0m\u001b[0;34m\u001b[0m\u001b[0m\n\u001b[0m",
      "\u001b[0;31mTypeError\u001b[0m: scatter() missing 1 required positional argument: 'y'"
     ]
    }
   ],
   "source": []
  },
  {
   "cell_type": "code",
   "execution_count": null,
   "metadata": {},
   "outputs": [],
   "source": []
  }
 ],
 "metadata": {
  "kernelspec": {
   "display_name": "statistics",
   "language": "python",
   "name": "statistics"
  },
  "language_info": {
   "codemirror_mode": {
    "name": "ipython",
    "version": 3
   },
   "file_extension": ".py",
   "mimetype": "text/x-python",
   "name": "python",
   "nbconvert_exporter": "python",
   "pygments_lexer": "ipython3",
   "version": "3.6.5"
  }
 },
 "nbformat": 4,
 "nbformat_minor": 4
}
