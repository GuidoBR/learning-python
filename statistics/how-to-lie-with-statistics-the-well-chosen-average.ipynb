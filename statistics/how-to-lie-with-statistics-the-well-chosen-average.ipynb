{
 "cells": [
  {
   "cell_type": "code",
   "execution_count": 2,
   "metadata": {},
   "outputs": [],
   "source": [
    "import numpy as np\n",
    "import matplotlib.pyplot as plt"
   ]
  },
  {
   "cell_type": "code",
   "execution_count": 3,
   "metadata": {},
   "outputs": [],
   "source": [
    "income = np.random.randint(low=15000, high=250000, size=200)"
   ]
  },
  {
   "cell_type": "code",
   "execution_count": 4,
   "metadata": {},
   "outputs": [
    {
     "data": {
      "text/plain": [
       "array([204842,  50410, 174263, 171215,  66210, 213758, 230797,  87775,\n",
       "       193766,  53489, 179926, 100707, 106172,  65571, 107363,  32561,\n",
       "        84475, 199445,  39350, 204962,  54277,  41804,  18066,  63081,\n",
       "       198445, 188529, 172922, 196782, 181111,  75567, 144040, 193171,\n",
       "       109116, 166227,  27561, 107135, 179557,  46717,  37505,  96473,\n",
       "       226363, 224949,  45184,  21090, 157098, 224966,  93337, 230287,\n",
       "       226027, 119438,  50859, 138129,  55747,  15497, 233211, 180520,\n",
       "       121394,  57851,  91826,  76967, 132694,  45859, 242405, 188382,\n",
       "       168124, 167734,  25854,  46435, 245129,  36193,  46897, 185140,\n",
       "        68689, 102936, 242267,  43158, 233416,  88357, 114427,  81343,\n",
       "        67917, 194073, 193592,  48404, 207121, 204856, 149786, 160388,\n",
       "        59629,  25740, 158117, 221708, 103503, 166427, 228674,  65937,\n",
       "       246738, 123065, 134175, 146261,  91495,  28675, 177404,  65918,\n",
       "       167712,  62002, 174075,  40521, 220282, 172682, 239831, 180423,\n",
       "        65742,  36033, 189860,  43398, 222299,  21439,  69049, 104469,\n",
       "       167690,  33025, 220109, 121338,  17945, 105682,  23222, 123778,\n",
       "       100860, 225764, 113005,  74914, 155596, 215183, 112212,  85186,\n",
       "       157430,  26418, 173663, 124285, 207411, 195007, 237370,  63852,\n",
       "        70675, 117182, 218156, 220541, 217792, 162485, 217973, 139749,\n",
       "        61041,  56390, 115331, 131624, 167994,  96479, 246644, 124008,\n",
       "        37003, 198602,  48890,  41848,  41389,  61661, 107036, 153296,\n",
       "       241652, 149635, 217286,  20744, 161445,  68075, 120378,  90144,\n",
       "        70915, 247650, 213550, 232926, 205870,  50433, 196860, 155304,\n",
       "        28419, 233556,  79320, 120074, 241581,  78226, 181882,  82525,\n",
       "       242893, 192873,  63998,  67347, 106335, 234372,  78327,  47104])"
      ]
     },
     "execution_count": 4,
     "metadata": {},
     "output_type": "execute_result"
    }
   ],
   "source": [
    "income"
   ]
  },
  {
   "cell_type": "code",
   "execution_count": 5,
   "metadata": {},
   "outputs": [
    {
     "name": "stdout",
     "output_type": "stream",
     "text": [
      "Mean: $ 129485.875\n",
      "Median: $ 121366.0\n",
      "Average: $ 129485.875\n",
      "Standard Deviation: $ 70367.43861076211\n",
      "Variance: $ 4951576416.639375\n"
     ]
    }
   ],
   "source": [
    "mean = np.mean(income)\n",
    "median = np.median(income)\n",
    "average = np.average(income)\n",
    "std = np.std(income)\n",
    "var = np.var(income)\n",
    "\n",
    "print(\"Mean: $ {}\".format(mean))\n",
    "print(\"Median: $ {}\".format(median))\n",
    "print(\"Average: $ {}\".format(average))\n",
    "print(\"Standard Deviation: $ {}\".format(std))\n",
    "print(\"Variance: $ {}\".format(var))"
   ]
  },
  {
   "cell_type": "code",
   "execution_count": 5,
   "metadata": {},
   "outputs": [
    {
     "data": {
      "text/plain": [
       "142326.585"
      ]
     },
     "execution_count": 5,
     "metadata": {},
     "output_type": "execute_result"
    }
   ],
   "source": []
  },
  {
   "cell_type": "code",
   "execution_count": 6,
   "metadata": {},
   "outputs": [
    {
     "data": {
      "text/plain": [
       "142326.585"
      ]
     },
     "execution_count": 6,
     "metadata": {},
     "output_type": "execute_result"
    }
   ],
   "source": []
  },
  {
   "cell_type": "code",
   "execution_count": 8,
   "metadata": {},
   "outputs": [
    {
     "ename": "TypeError",
     "evalue": "scatter() missing 1 required positional argument: 'y'",
     "output_type": "error",
     "traceback": [
      "\u001b[0;31m---------------------------------------------------------------------------\u001b[0m",
      "\u001b[0;31mTypeError\u001b[0m                                 Traceback (most recent call last)",
      "\u001b[0;32m<ipython-input-8-dd311a3556f1>\u001b[0m in \u001b[0;36m<module>\u001b[0;34m\u001b[0m\n\u001b[0;32m----> 1\u001b[0;31m \u001b[0mplt\u001b[0m\u001b[0;34m.\u001b[0m\u001b[0mscatter\u001b[0m\u001b[0;34m(\u001b[0m\u001b[0mincome\u001b[0m\u001b[0;34m)\u001b[0m\u001b[0;34m\u001b[0m\u001b[0m\n\u001b[0m",
      "\u001b[0;31mTypeError\u001b[0m: scatter() missing 1 required positional argument: 'y'"
     ]
    }
   ],
   "source": []
  },
  {
   "cell_type": "code",
   "execution_count": null,
   "metadata": {},
   "outputs": [],
   "source": []
  }
 ],
 "metadata": {
  "kernelspec": {
   "display_name": "statistics",
   "language": "python",
   "name": "statistics"
  },
  "language_info": {
   "codemirror_mode": {
    "name": "ipython",
    "version": 3
   },
   "file_extension": ".py",
   "mimetype": "text/x-python",
   "name": "python",
   "nbconvert_exporter": "python",
   "pygments_lexer": "ipython3",
   "version": "3.6.5"
  }
 },
 "nbformat": 4,
 "nbformat_minor": 4
}
