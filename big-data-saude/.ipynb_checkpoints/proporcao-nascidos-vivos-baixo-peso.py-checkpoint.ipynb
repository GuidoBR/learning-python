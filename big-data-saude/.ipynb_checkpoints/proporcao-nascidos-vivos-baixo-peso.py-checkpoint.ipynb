{
 "cells": [
  {
   "cell_type": "code",
   "execution_count": 1,
   "metadata": {
    "collapsed": true
   },
   "outputs": [],
   "source": [
    "data_csv1 = 'nascido-vivo-sao-joao-meriti-2013.csv'"
   ]
  },
  {
   "cell_type": "code",
   "execution_count": 2,
   "metadata": {
    "collapsed": true
   },
   "outputs": [],
   "source": [
    "def read_data_from_csv(data_csv):\n",
    "    number_line = 0\n",
    "    data = []\n",
    "    with open(data_csv) as file:\n",
    "        for line in file:\n",
    "            number_line += 1\n",
    "            if numero_linha == 1:\n",
    "                continue\n",
    "            data.append(line.split(';'))\n",
    "    return data"
   ]
  },
  {
   "cell_type": "code",
   "execution_count": 7,
   "metadata": {
    "collapsed": false
   },
   "outputs": [
    {
     "name": "stdout",
     "output_type": "stream",
     "text": [
      "[['\"330510 São João de Meriti\"', '16', '42', '56', '550', '1709', '4113', '302', '6788\\n'], ['\"Total\"', '16', '42', '56', '550', '1709', '4113', '302', '6788\\n']]\n"
     ]
    }
   ],
   "source": [
    "data_list = read_data_from_csv(data_csv1)\n",
    "print(data_list)"
   ]
  },
  {
   "cell_type": "code",
   "execution_count": 14,
   "metadata": {
    "collapsed": false
   },
   "outputs": [],
   "source": [
    "def analysis(data_list):\n",
    "    \"\"\"\n",
    "        Imprime a proporção de Nascidos Vivos\n",
    "        Recebe uma lista  de listas com os dados\n",
    "            - Onde o primeiro elemento de cada lista é a região.\n",
    "            - Onde o segundo elemento de cada lista é \"< 500g\"\n",
    "            - Onde o terceiro elemento de cada lista é \"> 500g < 900g\"\n",
    "            - Onde o quarto elemento de cada lista é \"> 1000g < 1499g\"\n",
    "            - Onde o quinto elemento de cada lista é \"> 1500g < 2499g\"\n",
    "            - Onde o sexto elemento de cada lista é \"> 2500g < 2999g\"\n",
    "            - Onde o setimo elemento de cada lista é \"> 3000g < 3999g\"\n",
    "            - Onde o oitavo elemento de cada lista é \"> 4000g\"\n",
    "            - Onde o nono elemento de cada lista é o \"Total\"\n",
    "    \"\"\"\n",
    "    for data in data_list:\n",
    "        total = data[-1]\n",
    "        baixo_peso = data[1] + data[2] + data[3]\n",
    "        proporcao = float(baixo_peso) / float(total)\n",
    "        municipio = ''.join([char for char in data[0] if not char.isdigit()]).strip(\"\\\"\").strip()\n",
    "        if municipio == \"Total\":\n",
    "            print('----')\n",
    "        \n",
    "        print('{} pessoas nasceram à baixo do peso (com menos que 1,5Kg)'.format(baixo_peso))\n",
    "        print('Isto representa {} do total de nascidos em 2013 no município {}'.format(proporcao, municipio))"
   ]
  },
  {
   "cell_type": "code",
   "execution_count": 15,
   "metadata": {
    "collapsed": false
   },
   "outputs": [
    {
     "name": "stdout",
     "output_type": "stream",
     "text": [
      "164256 pessoas nasceram à baixo do peso (com menos que 1,5Kg)\n",
      "Isto representa 24.19799646434885 do total de nascidos em 2013 no município São João de Meriti\n",
      "----\n",
      "164256 pessoas nasceram à baixo do peso (com menos que 1,5Kg)\n",
      "Isto representa 24.19799646434885 do total de nascidos em 2013 no município Total\n"
     ]
    }
   ],
   "source": [
    "analysis(data_list)"
   ]
  },
  {
   "cell_type": "code",
   "execution_count": null,
   "metadata": {
    "collapsed": true
   },
   "outputs": [],
   "source": []
  }
 ],
 "metadata": {
  "kernelspec": {
   "display_name": "Python 3",
   "language": "python",
   "name": "python3"
  },
  "language_info": {
   "codemirror_mode": {
    "name": "ipython",
    "version": 3
   },
   "file_extension": ".py",
   "mimetype": "text/x-python",
   "name": "python",
   "nbconvert_exporter": "python",
   "pygments_lexer": "ipython3",
   "version": "3.4.3"
  }
 },
 "nbformat": 4,
 "nbformat_minor": 0
}
